{
 "cells": [
  {
   "cell_type": "code",
   "execution_count": 1,
   "id": "6edb7307-1075-4dff-bb7d-1aa59fcb42b4",
   "metadata": {},
   "outputs": [
    {
     "name": "stdout",
     "output_type": "stream",
     "text": [
      "Requirement already satisfied: chess in /home/mahmud/.pyenv/versions/3.11.9/lib/python3.11/site-packages (1.10.0)\n"
     ]
    }
   ],
   "source": [
    "!pip install chess"
   ]
  },
  {
   "cell_type": "code",
   "execution_count": 1,
   "id": "1d2c2e01-7c73-4bf3-be7c-0360e9544fed",
   "metadata": {},
   "outputs": [],
   "source": [
    "import os  # Import the os module for interacting with the operating system\n",
    "import chess  # Import the chess library for chess-related functionalities\n",
    "import chess.pgn  # Import the PGN module from chess library to parse PGN files\n",
    "import chess.engine  # Import the chess.engine module for chess engine interaction\n",
    "import random  # Import the random module for generating random numbers\n",
    "import time  # Import the time module for time-related functionalities\n",
    "from math import log, sqrt, e, inf  # Import specific functions/constants from the math module\n",
    "from IPython.display import display, clear_output  # Import display and clear_output functions from IPython.display module\n",
    "from tqdm import tqdm  # Import tqdm for displaying progress bars\n",
    "import numpy as np  # Import NumPy for numerical computing\n",
    "import matplotlib.pyplot as plt  # Import matplotlib for plotting"
   ]
  },
  {
   "cell_type": "code",
   "execution_count": 2,
   "id": "adbde799-b20b-4e5b-93f0-0674b55bd4b0",
   "metadata": {},
   "outputs": [],
   "source": [
    "scores = {\n",
    "    'p': -1,     # Score for a black pawn\n",
    "    'n': -3,     # Score for a black knight\n",
    "    'b': -3,     # Score for a black bishop\n",
    "    'r': -5,     # Score for a black rook\n",
    "    'q': -9,     # Score for a black queen\n",
    "    'k': -10**5, # Score for a black king\n",
    "    'P': 1,      # Score for a white pawn\n",
    "    'N': 3,      # Score for a white knight\n",
    "    'B': 3,      # Score for a white bishop\n",
    "    'R': 5,      # Score for a white rook\n",
    "    'Q': 9,      # Score for a white queen\n",
    "    'K': 10**5   # Score for a white king\n",
    "}"
   ]
  },
  {
   "cell_type": "code",
   "execution_count": 3,
   "id": "1c7644c1-2abf-4556-819d-dadc59388b86",
   "metadata": {},
   "outputs": [
    {
     "name": "stdout",
     "output_type": "stream",
     "text": [
      "/home/mahmud/Labs/AILAB/Lab02\n",
      "A2roll_20_alpha_beta.ipynb  A2roll_20_MCTS.ipynb  stockfish\n"
     ]
    }
   ],
   "source": [
    "!pwd\n",
    "!ls"
   ]
  },
  {
   "cell_type": "code",
   "execution_count": 8,
   "id": "931ed592-7f0b-4488-82b5-b70f8d1f0e45",
   "metadata": {},
   "outputs": [],
   "source": [
    "def load_engine():\n",
    "    file_name = 'stockfish-ubuntu-x86-64'\n",
    "    return chess.engine.SimpleEngine.popen_uci(os.path.abspath('stockfish/'+file_name))"
   ]
  },
  {
   "cell_type": "code",
   "execution_count": 4,
   "id": "1015c0e6-c1a1-42a8-b746-53570f8ba0f1",
   "metadata": {},
   "outputs": [],
   "source": [
    "def evaluate(fen):\n",
    "    global scores  # Access the global variable 'scores'\n",
    "    sc = 0  # Initialize the score variable\n",
    "    \n",
    "    # Iterate through each character in the FEN string\n",
    "    for i in fen:\n",
    "        if(i not in scores):  # Check if the character represents a chess piece\n",
    "            continue  # If not a chess piece, skip to the next character\n",
    "        \n",
    "        sc += scores[i]  # Add the score of the chess piece to the total score\n",
    "    \n",
    "    return sc  # Return the total score\n"
   ]
  },
  {
   "cell_type": "code",
   "execution_count": 5,
   "id": "9d92dc2d-eefd-4462-b169-c9467080e636",
   "metadata": {},
   "outputs": [],
   "source": [
    "def minimax(tmp_board, all_moves, white, over, depth, alpha=-10**5-5, beta=10**5+5):\n",
    "    fen = tmp_board.fen()  # Get the FEN representation of the current board position\n",
    "    \n",
    "    # Base case: If game is over or reached maximum depth, return the evaluation of the position\n",
    "    if over or depth == 0:\n",
    "        if over:\n",
    "            # Check if the game is over and return the evaluation accordingly\n",
    "            if tmp_board.result()[0] == '1':\n",
    "                return (tmp_board, 10**5 + 1, '')\n",
    "            elif tmp_board.result()[-1] == '1':\n",
    "                return (tmp_board, -10**5 - 1, '')\n",
    "            else:\n",
    "                return (tmp_board, 0, '')\n",
    "        \n",
    "        # If not over, evaluate the current position\n",
    "        if white:\n",
    "            # If it's white's turn, maximize the score\n",
    "            mx = -10**5\n",
    "            move = ''\n",
    "            for i in all_moves:\n",
    "                tmp_board.push_san(i)\n",
    "                val = evaluate(tmp_board.fen().split()[0])  # Evaluate the position\n",
    "                if mx < val:\n",
    "                    mx = val\n",
    "                    move = i\n",
    "                alpha = max(alpha, mx)\n",
    "                if beta <= alpha:\n",
    "                    tmp_board = chess.Board(fen)\n",
    "                    break\n",
    "                tmp_board = chess.Board(fen)\n",
    "            return (tmp_board, mx, move)\n",
    "        else:\n",
    "            # If it's black's turn, minimize the score\n",
    "            mn = 10**5\n",
    "            move = ''\n",
    "            for i in all_moves:\n",
    "                tmp_board.push_san(i)\n",
    "                val = evaluate(tmp_board.fen().split()[0])  # Evaluate the position\n",
    "                if mn > val:\n",
    "                    mn = val\n",
    "                    move = i\n",
    "                beta = min(beta, mn)\n",
    "                if beta <= alpha:\n",
    "                    tmp_board = chess.Board(fen)\n",
    "                    break\n",
    "                tmp_board = chess.Board(fen)\n",
    "            return (tmp_board, mn, move)\n",
    "    \n",
    "    # Recursive case: Perform minimax search with alpha-beta pruning\n",
    "    if white:\n",
    "        mx = -10**6\n",
    "        move = ''\n",
    "        for i in all_moves:\n",
    "            tmp_board.push_san(i)\n",
    "            tmp_all_moves = [tmp_board.san(i) for i in list(tmp_board.legal_moves)]\n",
    "            val = minimax(tmp_board, tmp_all_moves, 0, tmp_board.is_game_over(), depth-1, alpha, beta)\n",
    "            if mx < val[1]:\n",
    "                mx = val[1]\n",
    "                move = i\n",
    "            tmp_board = chess.Board(fen)\n",
    "            alpha = max(alpha, mx)\n",
    "            if beta <= alpha:\n",
    "                tmp_board = chess.Board(fen)\n",
    "                break\n",
    "            tmp_board = chess.Board(fen)\n",
    "        return (tmp_board, mx, move)\n",
    "    else:\n",
    "        mn = 10**6\n",
    "        move = ''\n",
    "        for i in all_moves:\n",
    "            tmp_board.push_san(i)\n",
    "            tmp_all_moves = [tmp_board.san(i) for i in list(tmp_board.legal_moves)]\n",
    "            val = minimax(tmp_board, tmp_all_moves, 1, tmp_board.is_game_over(), depth-1, alpha, beta)\n",
    "            if mn > val[1]:\n",
    "                mn = val[1]\n",
    "                move = i\n",
    "            tmp_board = chess.Board(fen)\n",
    "            beta = min(beta, mn)\n",
    "            if beta <= alpha:\n",
    "                tmp_board = chess.Board(fen)\n",
    "                break\n",
    "            tmp_board = chess.Board(fen)\n",
    "        return (tmp_board, mn, move)\n"
   ]
  },
  {
   "cell_type": "code",
   "execution_count": 6,
   "id": "d7efdd28-20fa-4ab2-9b90-0f4067d66b03",
   "metadata": {},
   "outputs": [],
   "source": [
    "def run(depth=1):\n",
    "    avg_t = []  # List to store the average time taken per move\n",
    "    board = chess.Board()  # Initialize a chess board\n",
    "    engine = load_engine()  # Load a chess engine\n",
    "    white = 1  # Flag to indicate whether it's white's turn (1) or black's turn (0)\n",
    "    moves = 0  # Counter to keep track of the number of moves made\n",
    "    pgn = []  # List to store the moves in Portable Game Notation (PGN) format\n",
    "    game = chess.pgn.Game()  # Initialize a chess game object\n",
    "    evaluations = []  # List to store evaluations of board positions\n",
    "    \n",
    "    sm = 0  # Variable to store the sum of time taken per move\n",
    "    cnt = 0  # Counter to keep track of the number of moves made\n",
    "    \n",
    "    itr = 5  # Number of iterations/games to play\n",
    "    board\n",
    "    \n",
    "    # Loop through the iterations/games\n",
    "    for _ in tqdm(range(itr)):\n",
    "        if(board.is_game_over()):  # Check if the game is over\n",
    "            break\n",
    "        \n",
    "        start = time.time()  # Record the start time for measuring the time taken per move\n",
    "        cnt += 1  # Increment the move counter\n",
    "        \n",
    "        all_moves = [board.san(i) for i in list(board.legal_moves)]  # Get all legal moves in SAN format\n",
    "        \n",
    "        if(white):\n",
    "            # If it's white's turn, use minimax algorithm to find the best move\n",
    "            result = minimax(board, all_moves, white, board.is_game_over(), depth)\n",
    "            board = result[0]  # Update the board after making the move\n",
    "            pgn.append(result[2])  # Add the move to the PGN list\n",
    "            board.push_san(result[2])  # Make the move on the board\n",
    "            white ^= 1  # Switch turns\n",
    "        else:\n",
    "            # If it's black's turn, use minimax algorithm to find the best move\n",
    "            result = minimax(board, all_moves, white, board.is_game_over(), depth)\n",
    "            board = result[0]  # Update the board after making the move\n",
    "            pgn.append(result[2])  # Add the move to the PGN list\n",
    "            board.push_san(result[2])  # Make the move on the board\n",
    "            white ^= 1  # Switch turns\n",
    "        \n",
    "        moves += 1  # Increment the move counter\n",
    "        board_evaluation = evaluate(board.fen().split()[0])  # Evaluate the current board position\n",
    "        evaluations.append(board_evaluation)  # Add the evaluation to the evaluations list\n",
    "        t = time.time() - start  # Calculate the time taken for this move\n",
    "        sm += t  # Add the time taken to the sum\n",
    "        avg_t.append(t)  # Add the time taken to the average time list\n",
    "        clear_output(wait=True)  # Clear the output to update the display\n",
    "        \n",
    "        print(result[2])  # Print the move made\n",
    "        print(board)  # Print the current board position\n",
    "    \n",
    "    clear_output(wait=True)  # Clear the output\n",
    "    \n",
    "    print(\"Average Time per move = \", sm / cnt)  # Print the average time taken per move\n",
    "    print(board)  # Print the final board position\n",
    "    print(\" \".join(pgn))  # Print the moves in PGN format\n",
    "    print()\n",
    "    print(evaluations)  # Print the evaluations of board positions\n",
    "    print(board.result())  # Print the result of the game\n",
    "    \n",
    "    game.headers[\"Result\"] = board.result()  # Set the game result in the headers\n",
    "    #print(game)\n",
    "    engine.quit()  # Quit the chess engine\n",
    "    return avg_t  # Return the average time per move list\n"
   ]
  },
  {
   "cell_type": "code",
   "execution_count": 9,
   "id": "dc52a1e3-6a28-4b66-a82f-96a60d43cca7",
   "metadata": {},
   "outputs": [
    {
     "name": "stdout",
     "output_type": "stream",
     "text": [
      "Average Time per move =  17.139430809020997\n",
      "r n b q k b . r\n",
      "p p p p p p . p\n",
      ". . . . . . p n\n",
      ". . . . . . . .\n",
      ". . . . . . . .\n",
      ". . . . . . P .\n",
      "P P P P P P . P\n",
      "R N B Q K B N R\n",
      "g3 g6 Nh3 Nh6 Ng1\n",
      "\n",
      "[0, 0, 0, 0, 0]\n",
      "*\n"
     ]
    }
   ],
   "source": [
    "depth_time = []  # List to store the average time taken per move for different depths\n",
    "\n",
    "# Loop through depths from 1 to 4\n",
    "for i in range(4):\n",
    "    print(f'Depth{i+1}')  # Print the depth being evaluated\n",
    "    depth_time.append(run(i+1))  # Run the game for the current depth and append the result to depth_time\n"
   ]
  },
  {
   "cell_type": "code",
   "execution_count": null,
   "id": "1f185499-3459-479c-93fa-bf377e34ceb0",
   "metadata": {},
   "outputs": [],
   "source": [
    "depth_time"
   ]
  },
  {
   "cell_type": "code",
   "execution_count": 65,
   "id": "a3fd9250-09ac-47b4-a281-e94ec949d281",
   "metadata": {},
   "outputs": [],
   "source": [
    "x_coords = range(1, len(depth_time[0])+1)"
   ]
  },
  {
   "cell_type": "code",
   "execution_count": 66,
   "id": "607b9981-d4df-43b2-bfe2-ced6a0ebabd1",
   "metadata": {},
   "outputs": [
    {
     "data": {
      "image/png": "[encoded data removed]",
      "text/plain": [
       "<Figure size 640x480 with 1 Axes>"
      ]
     },
     "metadata": {},
     "output_type": "display_data"
    }
   ],
   "source": [
    "color = ['red', 'green', 'blue', 'yellow', 'black']\n",
    "\n",
    "for i in range(len(depth_time)):\n",
    "    plt.plot(x_coords, depth_time[i], label=f'depth{i+1}', color=color[i], linestyle='-', marker='o')\n",
    "\n",
    "plt.title('Multiple Lines on One Plot')\n",
    "plt.ylabel('Time (sec)')\n",
    "plt.xlabel('Move Turn')\n",
    "\n",
    "# Add a legend\n",
    "plt.legend()\n",
    "\n",
    "# Add a grid\n",
    "plt.grid(True)\n",
    "\n",
    "# Show the plot\n",
    "plt.show()"
   ]
  },
  {
   "cell_type": "code",
   "execution_count": null,
   "id": "4ba33386-b03a-47a9-961a-f71b3fe3b5ff",
   "metadata": {},
   "outputs": [],
   "source": []
  }
 ],
 "metadata": {
  "kernelspec": {
   "display_name": "Python 3 (ipykernel)",
   "language": "python",
   "name": "python3"
  },
  "language_info": {
   "codemirror_mode": {
    "name": "ipython",
    "version": 3
   },
   "file_extension": ".py",
   "mimetype": "text/x-python",
   "name": "python",
   "nbconvert_exporter": "python",
   "pygments_lexer": "ipython3",
   "version": "3.11.9"
  }
 },
 "nbformat": 4,
 "nbformat_minor": 5
}
