{
 "cells": [
  {
   "cell_type": "code",
   "execution_count": null,
   "metadata": {
    "id": "Q6R0Ogf2Waj0"
   },
   "outputs": [],
   "source": [
    "# !pip install sumy\n",
    "!pip install requests\n",
    "!pip install beautifulsoup4\n",
    "!pip install spacy\n",
    "!pip install tqdm\n",
    "!pip install ipynbname\n",
    "!pip install -q -U google-generativeai\n",
    "!pip install pandas"
   ]
  },
  {
   "cell_type": "code",
   "execution_count": null,
   "metadata": {
    "id": "yDpTsUXet0T3"
   },
   "outputs": [],
   "source": [
    "import requests\n",
    "from bs4 import BeautifulSoup\n",
    "import urllib\n",
    "import json\n",
    "import spacy\n",
    "from collections import deque\n",
    "from spacy.lang.en.stop_words import STOP_WORDS\n",
    "from string import punctuation\n",
    "from collections import Counter\n",
    "from heapq import nlargest"
   ]
  },
  {
   "cell_type": "code",
   "execution_count": null,
   "metadata": {
    "id": "xRaZ6rUUs6iD"
   },
   "outputs": [],
   "source": [
    "import google.generativeai as genai\n",
    "import random\n",
    "\n",
    "api_keys = [\n",
    "    \"API_KAY_1\",\n",
    "]\n",
    "\n",
    "\n",
    "def machinetranslator(input, prompt, wordlength):\n",
    "    for _ in range(5):\n",
    "        try:\n",
    "            genai.configure(api_key=random.choice(api_keys))\n",
    "            model = genai.GenerativeModel('gemini-pro')\n",
    "            messages = [\n",
    "                {'role': 'user',\n",
    "                'parts': [f\"{prompt}, within {wordlength} words:{input}\"]}\n",
    "            ]\n",
    "            response = model.generate_content(messages)\n",
    "            return response.text\n",
    "        except Exception as e:\n",
    "            pass\n",
    "    return \"Translation failed after 5 attempts.\"\n",
    "def gemini_summary(text, wordlength=300):\n",
    "  prompt = \"Provide a concise summary of the given text, highlighting its main arguments, key points, and central themes, in one paragraph, without any newline\"\n",
    "  return machinetranslator(text, prompt, wordlength)\n",
    "# print(gemini_summary(text,300))"
   ]
  },
  {
   "cell_type": "code",
   "execution_count": null,
   "metadata": {
    "id": "4TPZjzeGve4w"
   },
   "outputs": [],
   "source": [
    "nlp = spacy.load(\"en_core_web_sm\")"
   ]
  },
  {
   "cell_type": "code",
   "execution_count": null,
   "metadata": {
    "id": "neCCAUaevytH"
   },
   "outputs": [],
   "source": [
    "def fetch_and_parse(url):\n",
    "    response = requests.get(url)\n",
    "    soup = BeautifulSoup(response.text, 'html.parser')\n",
    "    return soup.get_text()"
   ]
  },
  {
   "cell_type": "code",
   "execution_count": null,
   "metadata": {
    "id": "pMMIVl9jWoVX"
   },
   "outputs": [],
   "source": [
    "api_key = \"API_KEY\"\n",
    "cse_id = \"your_cse_id\"\n",
    "\n",
    "# The sentence want to search\n",
    "query = \"Albert Einstein\"\n",
    "\n",
    "def google_search(query, api_key, cse_id, **kwargs):\n",
    "    service_url = 'https://www.googleapis.com/customsearch/v1'\n",
    "    params = {\n",
    "        'q': query,\n",
    "        'key': api_key,\n",
    "        'cx': cse_id,\n",
    "    }\n",
    "    params.update(kwargs)\n",
    "    response = requests.get(service_url, params=params)\n",
    "    return response.json()"
   ]
  },
  {
   "cell_type": "code",
   "execution_count": null,
   "metadata": {
    "id": "9x3QPUlhtegl"
   },
   "outputs": [],
   "source": [
    "def dfs_search(query, api_key, cse_id, depth=0, search_res=[]):\n",
    "    depth += 1\n",
    "    if depth>2:\n",
    "        return search_res\n",
    "    results = google_search(query, api_key, cse_id)\n",
    "    search_res.extend(results.get('items', []))\n",
    "    for result in results.get('items', [])[:3]:\n",
    "        return dfs_search(result['title'], api_key, cse_id, depth, search_res)"
   ]
  },
  {
   "cell_type": "code",
   "execution_count": null,
   "metadata": {
    "colab": {
     "base_uri": "https://localhost:8080/"
    },
    "id": "_llmFbO5tiGv",
    "outputId": "d3205214-d152-4e78-95ce-75cdd0bfb2a8"
   },
   "outputs": [
    {
     "name": "stdout",
     "output_type": "stream",
     "text": [
      "Albert Einstein - Wikipedia https://en.wikipedia.org/wiki/Albert_Einstein\n",
      "Albert Einstein – Biographical - NobelPrize.org https://www.nobelprize.org/prizes/physics/1921/einstein/biographical/\n",
      "Albert Einstein | Biography, Education, Discoveries, & Facts ... https://www.britannica.com/biography/Albert-Einstein\n",
      "Albert Einstein College of Medicine | Medical Education | Biomedical ... https://einsteinmed.edu/\n",
      "Albert Einstein https://www.history.com/topics/inventions/albert-einstein\n",
      "Albert Einstein: His life, theories and impact on science | Space https://www.space.com/15524-albert-einstein.html\n",
      "Albert Einstein HS https://www.montgomeryschoolsmd.org/schools/einsteinhs/\n",
      "Einstein | Jefferson Health https://www.jeffersonhealth.org/einstein\n",
      "The Official Licensing Site of Albert Einstein http://einstein.biz/\n",
      "Albert Einstein: Biography, Physicist, Nobel Prize Winner https://www.biography.com/scientists/albert-einstein\n",
      "Albert Einstein - Wikipedia https://en.wikipedia.org/wiki/Albert_Einstein\n",
      "Albert Einstein - Simple English Wikipedia, the free encyclopedia https://simple.wikipedia.org/wiki/Albert_Einstein\n",
      "Hans Albert Einstein - Wikipedia https://en.wikipedia.org/wiki/Hans_Albert_Einstein\n",
      "Albert Einstein - Wikipedia, la enciclopedia libre https://es.wikipedia.org/wiki/Albert_Einstein\n",
      "Religious and philosophical views of Albert Einstein - Wikipedia https://en.wikipedia.org/wiki/Religious_and_philosophical_views_of_Albert_Einstein\n",
      "Albert Einstein - Wikipedia, friddja diehtosátnegirji https://se.wikipedia.org/wiki/Albert_Einstein\n",
      "Hans Albert Einstein – Wikipedia https://lb.wikipedia.org/wiki/Hans_Albert_Einstein\n",
      "Albert Einstein - Wikipedia, ìwé-ìmọ̀ ọ̀fẹ́ https://yo.wikipedia.org/wiki/Albert_Einstein\n",
      "Albert Einstein - Wikipedia, Njikotá édémédé nke onyobulạ https://ig.wikipedia.org/wiki/Albert_Einstein\n",
      "Albert Einstein - Wikiquote https://quote.wikipedia.org/wiki/Albert_Einstein\n",
      "Albert Einstein - Wikipedia https://en.wikipedia.org/wiki/Albert_Einstein\n",
      "Albert Einstein – Biographical - NobelPrize.org https://www.nobelprize.org/prizes/physics/1921/einstein/biographical/\n",
      "Albert Einstein | Biography, Education, Discoveries, & Facts ... https://www.britannica.com/biography/Albert-Einstein\n",
      "Albert Einstein College of Medicine | Medical Education | Biomedical ... https://einsteinmed.edu/\n",
      "Albert Einstein https://www.history.com/topics/inventions/albert-einstein\n",
      "Albert Einstein: His life, theories and impact on science | Space https://www.space.com/15524-albert-einstein.html\n",
      "Albert Einstein HS https://www.montgomeryschoolsmd.org/schools/einsteinhs/\n",
      "Einstein | Jefferson Health https://www.jeffersonhealth.org/einstein\n",
      "The Official Licensing Site of Albert Einstein http://einstein.biz/\n",
      "Albert Einstein: Biography, Physicist, Nobel Prize Winner https://www.biography.com/scientists/albert-einstein\n",
      "Albert Einstein - Wikipedia https://en.wikipedia.org/wiki/Albert_Einstein\n",
      "Albert Einstein - Simple English Wikipedia, the free encyclopedia https://simple.wikipedia.org/wiki/Albert_Einstein\n",
      "Hans Albert Einstein - Wikipedia https://en.wikipedia.org/wiki/Hans_Albert_Einstein\n",
      "Albert Einstein - Wikipedia, la enciclopedia libre https://es.wikipedia.org/wiki/Albert_Einstein\n",
      "Religious and philosophical views of Albert Einstein - Wikipedia https://en.wikipedia.org/wiki/Religious_and_philosophical_views_of_Albert_Einstein\n",
      "Albert Einstein - Wikipedia, friddja diehtosátnegirji https://se.wikipedia.org/wiki/Albert_Einstein\n",
      "Hans Albert Einstein – Wikipedia https://lb.wikipedia.org/wiki/Hans_Albert_Einstein\n",
      "Albert Einstein - Wikipedia, ìwé-ìmọ̀ ọ̀fẹ́ https://yo.wikipedia.org/wiki/Albert_Einstein\n",
      "Albert Einstein - Wikipedia, Njikotá édémédé nke onyobulạ https://ig.wikipedia.org/wiki/Albert_Einstein\n",
      "Albert Einstein - Wikiquote https://quote.wikipedia.org/wiki/Albert_Einstein\n"
     ]
    }
   ],
   "source": [
    "# DFS search function\n",
    "search_results = dfs_search(query, api_key, cse_id, 0)\n",
    "\n",
    "# Print DFS the search results\n",
    "for result in search_results:\n",
    "     print(result['title'], result['link'])"
   ]
  },
  {
   "cell_type": "code",
   "execution_count": null,
   "metadata": {
    "id": "x2noqpk4MBUc"
   },
   "outputs": [],
   "source": [
    "def summary(search_result):\n",
    "    text = \"\"\n",
    "    for result in search_result:\n",
    "        text += fetch_and_parse(result['link'])\n",
    "    text = text.replace('   ', '').replace('\\n', '')\n",
    "    doc = nlp(text[-100000:])\n",
    "    print(f'Number of sentences sent: {len(list(doc.sents))}')\n",
    "    keyword = []\n",
    "    stopwords = list(STOP_WORDS)\n",
    "    pos_tag = ['PROPN', 'ADJ', 'NOUN', 'VERB']\n",
    "    for token in doc:\n",
    "        if(token.text in stopwords or token.text in punctuation):\n",
    "            continue\n",
    "        if(token.pos_ in pos_tag):\n",
    "            keyword.append(token.text)\n",
    "\n",
    "\n",
    "    freq_word = Counter(keyword)\n",
    "    print(\"Most Frequent Words:\")\n",
    "    print(freq_word.most_common(5))\n",
    "\n",
    "\n",
    "    max_freq = Counter(keyword).most_common(1)[0][1]\n",
    "    for word in freq_word.keys():\n",
    "            freq_word[word] = (freq_word[word]/max_freq)\n",
    "    print(freq_word.most_common(5))\n",
    "\n",
    "\n",
    "\n",
    "    sent_strength={}\n",
    "    for sent in doc.sents:\n",
    "        for word in sent:\n",
    "            if word.text in freq_word.keys():\n",
    "                if sent in sent_strength.keys():\n",
    "                    sent_strength[sent]+=freq_word[word.text]\n",
    "                else:\n",
    "                    sent_strength[sent]=freq_word[word.text]\n",
    "\n",
    "    #nlargest function returns a list containing the top 3 sentences\n",
    "    summarized_sentences = nlargest(3, sent_strength, key=sent_strength.get)\n",
    "\n",
    "    final_sentences = [ w.text for w in summarized_sentences ]\n",
    "    summary = ' '.join(final_sentences)\n",
    "    return summary, text"
   ]
  },
  {
   "cell_type": "code",
   "execution_count": null,
   "metadata": {
    "colab": {
     "base_uri": "https://localhost:8080/"
    },
    "id": "BCNAQBZlOIig",
    "outputId": "88a6cc0f-be34-4ab2-fe48-393c89109fec"
   },
   "outputs": [
    {
     "name": "stdout",
     "output_type": "stream",
     "text": [
      "DFS SUMMARY:\n",
      "Number of sentences sent: 739\n",
      "Most Frequent Words:\n",
      "[('Einstein', 264), ('p.', 65), ('theory', 47), ('time', 42), ('quote', 42)]\n",
      "[('Einstein', 1.0), ('p.', 0.24621212121212122), ('theory', 0.17803030303030304), ('time', 0.1590909090909091), ('quote', 0.1590909090909091)]\n",
      "Summary:\n",
      "Eliezer Yudkowsky, \"Einstein's Speed\" (21 May 2008)See also[edit]Albert Einstein and politicsAnnus Mirabilis papersEPR paradoxOn the Method of Theoretical Physics, Einstein's Herbert Spencer lecture at Oxford (June 10, 1933).The Meaning of Relativity (1922 book consisting of an English translation of four lectures given by Einstein in German at Princeton University in May 1921; with several subsequent editions)Theory of relativityUnified field theoryWhy Socialism?Bohr–Einstein debatesPhilosophy of scienceConceptsAnalysis • A priori and a posteriori • Causality • Demarcation problem • Fact • Inductive reasoning • The earliest published attribution of this quote to Einstein found on Google Books is the 1991 book The Art of Computer Systems Performance Analysis by Raj Jain (p. 507), but no source to Einstein's original writings is given and the quote itself is older; for example New Guard: Volume 5, Issue 3 from 1961 says on p. 312 \"Someone once said that if the facts do not fit the theory, then the facts must be changed\", while Product engineering: Volume 29, Issues 9-12 from 1958 gives the slight variant on p. 9 The three principles are sometimes attributed to Einstein himself, but no source can be found showing that Einstein stated them, and Wheeler didn't indicate in the interview whether he was quoting something Einstein had told him or giving his own description of how Einstein worked.\n"
     ]
    }
   ],
   "source": [
    "print('DFS SUMMARY:')\n",
    "summ, text_dfs = summary(search_results)\n",
    "print(f'Summary:\\n{summ}')"
   ]
  },
  {
   "cell_type": "code",
   "execution_count": null,
   "metadata": {
    "colab": {
     "base_uri": "https://localhost:8080/",
     "height": 89
    },
    "id": "ispbSnXrupjY",
    "outputId": "eb443376-106c-4b0e-c160-83b97d0dde3e"
   },
   "outputs": [
    {
     "name": "stdout",
     "output_type": "stream",
     "text": [
      "GEMINI SUMMARY of DFS:\n",
      "Summary:\n",
      "The text delves into the scientific and philosophical perspectives of Albert Einstein, highlighting his unique approach to understanding the universe. It emphasizes his relentless pursuit of fundamental truths, leading him to question established theories and seek out unsettling situations. While his colleagues made progress by exploiting existing ideas, Einstein aimed to transcend them, resulting in his aloofness from the applications of quantum theory. The author discusses Einstein's attempt to introduce a cosmological constant to create a static universe model, which later proved obsolete with the discovery of the universe's expansion. It also mentions Einstein's understanding of general relativity's central concepts before developing the detailed equations. Additionally, the text explores Einstein's perspective on capitalism, arguing that the owner of the means of production determines the worker's payment based on minimum needs and labor requirements, not the value of the product. Lastly, the author suggests that Einstein's scientific approach can be seen as a form of induction, where he updated his model of physical law based on observations, effectively reasoning on a higher level across a broader domain.\n"
     ]
    }
   ],
   "source": [
    "print('GEMINI SUMMARY of DFS:')\n",
    "short = gemini_summary(text_dfs[-10000:])\n",
    "print(f'Summary:\\n{short}')"
   ]
  },
  {
   "cell_type": "code",
   "execution_count": null,
   "metadata": {
    "id": "tAmPyY9ZyKpG"
   },
   "outputs": [],
   "source": [
    "def bfs_search(query, api_key, cse_id):\n",
    "    queue = deque([query])\n",
    "    visited = set()\n",
    "    search_results = []\n",
    "    node_cnt = 0\n",
    "    while queue:\n",
    "        node_cnt += 1\n",
    "        if(node_cnt>5):\n",
    "            break\n",
    "        current_query = queue.popleft()\n",
    "        if current_query not in visited:\n",
    "            visited.add(current_query)\n",
    "            results = google_search(current_query, api_key, cse_id)\n",
    "            search_results.extend(results.get('items', []))\n",
    "            # Add related queries to the queue\n",
    "            for result in results.get('items', []):\n",
    "                queue.append(result['title'])\n",
    "    return search_results\n"
   ]
  },
  {
   "cell_type": "code",
   "execution_count": null,
   "metadata": {
    "colab": {
     "base_uri": "https://localhost:8080/"
    },
    "id": "x6CAXCm475_A",
    "outputId": "ab53b962-29e0-4928-98bb-48cc968a7efb"
   },
   "outputs": [
    {
     "name": "stdout",
     "output_type": "stream",
     "text": [
      "Albert Einstein - Wikipedia https://en.wikipedia.org/wiki/Albert_Einstein\n",
      "Albert Einstein – Biographical - NobelPrize.org https://www.nobelprize.org/prizes/physics/1921/einstein/biographical/\n",
      "Albert Einstein | Biography, Education, Discoveries, & Facts ... https://www.britannica.com/biography/Albert-Einstein\n",
      "Albert Einstein College of Medicine | Medical Education | Biomedical ... https://einsteinmed.edu/\n",
      "Albert Einstein https://www.history.com/topics/inventions/albert-einstein\n",
      "Albert Einstein: His life, theories and impact on science | Space https://www.space.com/15524-albert-einstein.html\n",
      "Albert Einstein HS https://www.montgomeryschoolsmd.org/schools/einsteinhs/\n",
      "Einstein | Jefferson Health https://www.jeffersonhealth.org/einstein\n",
      "The Official Licensing Site of Albert Einstein http://einstein.biz/\n",
      "Albert Einstein: Biography, Physicist, Nobel Prize Winner https://www.biography.com/scientists/albert-einstein\n",
      "Albert Einstein - Wikipedia https://en.wikipedia.org/wiki/Albert_Einstein\n",
      "Albert Einstein - Simple English Wikipedia, the free encyclopedia https://simple.wikipedia.org/wiki/Albert_Einstein\n",
      "Hans Albert Einstein - Wikipedia https://en.wikipedia.org/wiki/Hans_Albert_Einstein\n",
      "Albert Einstein - Wikipedia, la enciclopedia libre https://es.wikipedia.org/wiki/Albert_Einstein\n",
      "Religious and philosophical views of Albert Einstein - Wikipedia https://en.wikipedia.org/wiki/Religious_and_philosophical_views_of_Albert_Einstein\n",
      "Albert Einstein - Wikipedia, friddja diehtosátnegirji https://se.wikipedia.org/wiki/Albert_Einstein\n",
      "Hans Albert Einstein – Wikipedia https://lb.wikipedia.org/wiki/Hans_Albert_Einstein\n",
      "Albert Einstein - Wikipedia, ìwé-ìmọ̀ ọ̀fẹ́ https://yo.wikipedia.org/wiki/Albert_Einstein\n",
      "Albert Einstein - Wikipedia, Njikotá édémédé nke onyobulạ https://ig.wikipedia.org/wiki/Albert_Einstein\n",
      "Albert Einstein - Wikiquote https://quote.wikipedia.org/wiki/Albert_Einstein\n",
      "Albert Einstein – Biographical - NobelPrize.org https://www.nobelprize.org/prizes/physics/1921/einstein/biographical/\n",
      "Albert Einstein - Wikipedia https://en.wikipedia.org/wiki/Albert_Einstein\n",
      "Albert Einstein – Facts - NobelPrize.org https://www.nobelprize.org/prizes/physics/1921/einstein/facts/\n",
      "Albert Einstein's Life and Legacy - The Great Republic https://www.great-republic.com/blogs/news/albert-einsteins-life-and-legacy\n",
      "Albert Einstein - Biographical - NobelPrize.org https://www.nobelprize.org/page/9/?np-content-type=biographical\n",
      "About Albert Einstein - Kalicube Profile page https://kalicube.pro/entity/person/us/new-york-city-new-york/albert-einstein\n",
      "Albert Einstein – Photo gallery - NobelPrize.org https://www.nobelprize.org/prizes/physics/1921/einstein/photo-gallery/\n",
      "Albert Einstein | Biography, Education, Discoveries, & Facts ... https://www.britannica.com/biography/Albert-Einstein\n",
      "Albert Einstein – Nobel Lecture - NobelPrize.org https://www.nobelprize.org/prizes/physics/1921/einstein/lecture/\n",
      "Albert Einstein - Simple English Wikipedia, the free encyclopedia https://simple.wikipedia.org/wiki/Albert_Einstein\n",
      "Albert Einstein | Biography, Education, Discoveries, & Facts ... https://www.britannica.com/biography/Albert-Einstein\n",
      "Albert Einstein – Biographical - NobelPrize.org https://www.nobelprize.org/prizes/physics/1921/einstein/biographical/\n",
      "Albert Einstein - Wikipedia https://en.wikipedia.org/wiki/Albert_Einstein\n",
      "10 facts about Albert Einstein - National Geographic Kids https://www.natgeokids.com/uk/discover/science/general-science/albert-einstein-facts/\n",
      "Albert Einstein: Biography, Physicist, Nobel Prize Winner https://www.biography.com/scientists/albert-einstein\n",
      "9 Things You May Not Know About Albert Einstein | HISTORY https://www.history.com/news/9-things-you-may-not-know-about-albert-einstein\n",
      "A Science Odyssey: People and Discoveries: Albert Einstein https://www.pbs.org/wgbh/aso/databank/entries/bpeins.html\n",
      "Albert Einstein https://www.history.com/topics/inventions/albert-einstein\n",
      "About Einstein | Albert Einstein College of Medicine https://www.einsteinmed.edu/about/\n",
      "NOVA | Einstein's Big Idea | Time Line of Albert Einstein's Life | PBS https://www.pbs.org/wgbh/nova/einstein/timeline/\n",
      "Albert Einstein College of Medicine | Medical Education | Biomedical ... https://einsteinmed.edu/\n",
      "About Einstein | Albert Einstein College of Medicine https://www.einsteinmed.edu/about/\n",
      "Education | Albert Einstein College of Medicine https://einsteinmed.edu/education/\n",
      "Overview | Office of Medical Education | Albert Einstein College of ... https://www.einsteinmed.edu/education/md-program/\n",
      "Albert Einstein College of Medicine - Wikipedia https://en.wikipedia.org/wiki/Albert_Einstein_College_of_Medicine\n",
      "Graduate Programs in the Biomedical Sciences https://www.einsteinmed.edu/education/phd/\n",
      "Education - Partnership with Albert Einstein College of Medicine ... https://www.montefiore.org/albert-einstein-college-of-medicine\n",
      "Overview | M.D. Admissions | Albert Einstein College of Medicine https://www.einsteinmed.edu/education/md-program/admissions/\n",
      "Albert Einstein College of Medicine - Best Medical Schools - US News https://www.usnews.com/best-graduate-schools/top-medical-schools/albert-einstein-college-of-medicine-04079\n",
      "The Belfer Institute for Advanced Biomedical Studies | Postdoctoral ... https://www.einsteinmed.edu/research/belfer-institute/\n"
     ]
    }
   ],
   "source": [
    "# BFS search function\n",
    "search_results = bfs_search(query, api_key, cse_id)\n",
    "\n",
    "# Print the search results\n",
    "for result in search_results:\n",
    "    print(result['title'], result['link'])"
   ]
  },
  {
   "cell_type": "code",
   "execution_count": null,
   "metadata": {
    "colab": {
     "base_uri": "https://localhost:8080/"
    },
    "id": "2NHeND41uS8k",
    "outputId": "9012de68-eb60-4d7e-bbed-49d5ca3f3632"
   },
   "outputs": [
    {
     "name": "stdout",
     "output_type": "stream",
     "text": [
      "BFS SUMMARY:\n",
      "Number of sentences sent: 802\n",
      "Most Frequent Words:\n",
      "[('Einstein', 323), ('Albert', 75), ('theory', 54), ('identifiersArticles', 47), ('relativity', 34)]\n",
      "[('Einstein', 1.0), ('Albert', 0.23219814241486067), ('theory', 0.16718266253869968), ('identifiersArticles', 0.14551083591331268), ('relativity', 0.10526315789473684)]\n",
      "Summary:\n",
      "investigationsWave–particle dualityGravitational waveTea leaf paradoxWorksAnnus mirabilis papers (1905)\"Investigations on the Theory of Brownian Movement\" (1905)Relativity: The Special and the General Theory (1916)The Meaning of Relativity (1922)The World as I See It (1934)The Evolution of Physics (1938)\"Why Socialism?\" (1949)Russell–Einstein Manifesto (1955)In popularcultureDie Grundlagen der Einsteinschen Relativitäts-Theorie (1922 documentary)The Einstein Theory of Relativity (1923 documentary)Relics: Einstein's Brain (1994 documentary)Insignificance (1985 film)Picasso at the Lapin Agile (1993 play)I.Q. (1994 film)Einstein's Gift (2003 play)Einstein and Eddington (2008 TV film)Genius (2017 series)Oppenheimer (2023 film)PrizesAlbert Einstein AwardAlbert Einstein MedalKalinga PrizeAlbert Einstein Peace PrizeAlbert Einstein World Award of ScienceEinstein Prize for Laser ScienceEinstein Prize (APS)Books aboutEinsteinAlbert Einstein: Creator and RebelEinstein and ReligionEinstein for BeginnersEinstein: His Life and UniverseEinstein's CosmosI Am Albert EinsteinIntroducing RelativitySubtle is the LordFamilyMileva Marić (first wife)Elsa Einstein (second wife; cousin)Lieserl Einstein (daughter)Hans Albert Einstein (son)Pauline Koch (mother)Hermann Einstein (father)Maja Einstein (sister)Eduard Einstein (son)Robert Einstein (cousin)Bernhard Caesar Einstein (grandson)Evelyn Einstein (granddaughter)Thomas Martin Einstein (great-grandson)Siegbert Einstein (distant cousin)RelatedAwards and honorsBrainHouseMemorialPolitical viewsReligious viewsThings named afterAlbert Einstein ArchivesEinstein's BlackboardEinstein Papers ProjectEinstein refrigeratorEinsteinhausEinsteiniumMax Talmey CategoryLinks to related articlesvteCopley Medallists (1901–1950)Josiah Willard Gibbs (1901)Joseph Lister (1902)Eduard Suess (1903)William Crookes (1904)Dmitri Mendeleev (1905)Élie Metchnikoff (1906)Albert A. Michelson (1907)Alfred Russel Wallace (1908)George William Hill (1909)Francis Galton (1910)George Darwin (1911)Felix Klein (1912)Ray Lankester (1913)J. J. Thomson (1914)Ivan Pavlov (1915)James Dewar (1916)Pierre Paul Émile Roux (1917)Hendrik Lorentz (1918)William Bayliss (1919)Horace Tabberer Brown (1920)Joseph Larmor (1921)Ernest Rutherford (1922)Horace Lamb (1923)Edward Albert Sharpey-Schafer (1924)Albert Einstein (1925)Frederick Gowland Hopkins (1926)Charles Scott Sherrington (1927)Charles Algernon Parsons (1928)Max Planck (1929)William Henry Bragg (1930)Arthur Schuster (1931)George Ellery Hale (1932)Theobald Smith (1933)John Scott Haldane (1934)Charles Thomson Rees Wilson (1935)Arthur Evans (1936)Henry Hallett Dale (1937)Niels Bohr (1938)Thomas Hunt Morgan (1939)Paul Langevin (1940)Thomas Lewis (1941)Robert Robinson (1942)Joseph Barcroft (1943)Geoffrey Ingram Taylor (1944)Oswald Avery (1945)Edgar Douglas Adrian (1946)G. H. Hardy (1947)Archibald Hill (1948)George de Hevesy (1949)James Chadwick (1950)vteLaureates of the Nobel Prize in Physics1901–19251901: Einstein's Personal Correspondence: Religion, Politics, The Holocaust, and Philosophy Shapell Manuscript FoundationFederal Bureau of Investigation file on Albert EinsteinEinstein and his love of music, Physics WorldAlbert Einstein on Nobelprize.org  including the Nobel Lecture 11 July 1923 Fundamental ideas and problems of the theory of relativityAlbert Einstein Archives Online (80,000+ Documents) Archived 11 August 2011 at the Wayback Machine (MSNBC, 19 March 2012)Einstein's declaration of intention for American citizenship on the World Digital LibraryAlbert Einstein Collection at Brandeis UniversityThe Collected Papers of Albert Einstein \"Digital Einstein\" at Princeton UniversityNewspaper clippings about Albert Einstein in the 20th Century Press Archives of the ZBWHome page of Albert Einstein at The Institute for Advanced StudyAlbert – The Digital Repository of the IAS, which contains many digitized original documents and photographsAlbert Einstein at IMDbvteAlbert EinsteinPhysicsSpecial relativityGeneral relativityMass–energy equivalence (E=mc2)Brownian motionPhotoelectric effectEinstein coefficientsEinstein solidEquivalence principleEinstein field equationsEinstein radiusEinstein relation (kinetic theory)Cosmological constantBose–Einstein condensateBose–Einstein statisticsBose–Einstein correlationsEinstein–Cartan theoryEinstein–Infeld–Hoffmann equationsEinstein–de Haas effectEPR paradoxBohr–Einstein debatesTeleparallelismThought experimentsUnsuccessful long volume valueWikipedia articles incorporating a citation from the 1922 Encyclopaedia Britannica with Wikisource referencePages using Sister project links with hidden wikidataArticles with Curlie linksArticles with Project Gutenberg linksArticles with Internet Archive linksArticles with LibriVox linksNobelprize template using Wikidata property P8024Articles with FAST identifiersArticles with ISNI identifiersArticles with VIAF identifiersArticles with WorldCat Entities identifiersArticles with BIBSYS identifiersArticles with BNC identifiersArticles with BNE identifiersArticles with BNF identifiersArticles with BNFdata identifiersArticles with CANTICN identifiersArticles with GND identifiersArticles with ICCU identifiersArticles with J9U identifiersArticles with KANTO identifiersArticles with KBR identifiersArticles with LCCN identifiersArticles with Libris identifiersArticles with LNB identifiersArticles with NCL identifiersArticles with NDL identifiersArticles with NKC identifiersArticles with NLA identifiersArticles with NLG identifiersArticles with NLK identifiersArticles with NLR identifiersArticles with NSK identifiersArticles with NTA identifiersArticles with PLWABN identifiersArticles with PortugalA identifiersArticles with RSL identifiersArticles with VcBA identifiersArticles with CINII identifiersArticles with Google Scholar identifiersArticles with Leopoldina identifiersArticles with MATHSN identifiersArticles with MGP identifiersArticles with Scopus identifiersArticles with ZBMATH identifiersArticles with MusicBrainz identifiersArticles with ULAN identifiersArticles with DTBIO identifiersArticles with Trove identifiersArticles with EMU identifiersArticles with HDS identifiersArticles with NARA identifiersArticles with RISM identifiersArticles with SNAC-ID identifiersArticles with SUDOC identifiers This page was last edited on 26 February 2024, at 13:43 (UTC).Text is available under the Creative Commons Attribution-ShareAlike License 4.0;additional terms may apply.  \n"
     ]
    }
   ],
   "source": [
    "print('BFS SUMMARY:')\n",
    "summ, text_bfs = summary(search_results[20: 40])\n",
    "print(f'Summary:\\n{summ}')"
   ]
  },
  {
   "cell_type": "code",
   "execution_count": null,
   "metadata": {
    "colab": {
     "base_uri": "https://localhost:8080/",
     "height": 89
    },
    "id": "C2moTbnMQiPm",
    "outputId": "8b1bf0f8-2444-4a10-d544-cc35cdd1fd4c"
   },
   "outputs": [
    {
     "name": "stdout",
     "output_type": "stream",
     "text": [
      "GEMINI SUMMARY of BFS:\n",
      "Summary:\n",
      "Einstein's College of Medicine, founded in 1953, is renowned for its commitment to medical education, biomedical research, and patient care. It has over 2,000 full-time faculty, 737 M.D. students, and 209 Ph.D. students. The college has a long history of innovation, being among the first to integrate bedside experience with learning, develop bioethics as an academic discipline, and establish a residency program in internal medicine with a focus on women's health. Its research programs have received significant funding from the National Institutes of Health, with a focus on aging, developmental brain research, cardiac disease, and ethnic and racial health disparities. The college's partnership with Montefiore Medical Center enhances clinical and translational research, leading to accelerated adoption of new discoveries for patient treatments. With its dedication to excellence in education, research, and patient care, Einstein's College of Medicine continues to be a leader in healthcare and medical education.\n"
     ]
    }
   ],
   "source": [
    "print('GEMINI SUMMARY of BFS:')\n",
    "short = gemini_summary(text_bfs[-10000:])\n",
    "print(f'Summary:\\n{short}')"
   ]
  }
 ],
 "metadata": {
  "colab": {
   "provenance": []
  },
  "kernelspec": {
   "display_name": "Python 3 (ipykernel)",
   "language": "python",
   "name": "python3"
  },
  "language_info": {
   "codemirror_mode": {
    "name": "ipython",
    "version": 3
   },
   "file_extension": ".py",
   "mimetype": "text/x-python",
   "name": "python",
   "nbconvert_exporter": "python",
   "pygments_lexer": "ipython3",
   "version": "3.11.9"
  }
 },
 "nbformat": 4,
 "nbformat_minor": 4
}
